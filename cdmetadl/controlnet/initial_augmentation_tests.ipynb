version https://git-lfs.github.com/spec/v1
oid sha256:3c9867cc78c6e6a784ed9e0b093898edeb2dee802758b406f8d6b3880e22b32d
size 1357773
