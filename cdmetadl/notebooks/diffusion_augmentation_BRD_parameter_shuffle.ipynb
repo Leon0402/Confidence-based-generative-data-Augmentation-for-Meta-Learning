{
 "cells": [
  {
   "cell_type": "code",
   "execution_count": null,
   "metadata": {},
   "outputs": [],
   "source": [
    "%load_ext autoreload\n",
    "%autoreload 2\n",
    "%matplotlib inline  "
   ]
  },
  {
   "cell_type": "code",
   "execution_count": null,
   "metadata": {},
   "outputs": [],
   "source": [
    "path_to_dataset = \"../../public_data\""
   ]
  },
  {
   "cell_type": "code",
   "execution_count": null,
   "metadata": {},
   "outputs": [],
   "source": [
    "import pathlib\n",
    "\n",
    "import cdmetadl.helpers.general_helpers\n",
    "import cdmetadl.dataset\n",
    "\n",
    "dataset_path = pathlib.Path(path_to_dataset)\n",
    "dataset_info_dict = cdmetadl.helpers.general_helpers.check_datasets(dataset_path, [\"BRD\"])\n",
    "\n",
    "dataset = cdmetadl.dataset.ImageDataset(\"Birds\", dataset_info_dict[\"BRD\"])"
   ]
  },
  {
   "cell_type": "code",
   "execution_count": null,
   "metadata": {},
   "outputs": [],
   "source": [
    "import cdmetadl.samplers\n",
    "\n",
    "n_way_sampler = cdmetadl.samplers.ValueSampler(value=10)\n",
    "k_shot_sampler = cdmetadl.samplers.ValueSampler(value=4)\n",
    "\n",
    "task = dataset.generate_task(n_way_sampler, k_shot_sampler, query_size=4)"
   ]
  },
  {
   "cell_type": "code",
   "execution_count": null,
   "metadata": {},
   "outputs": [],
   "source": [
    "import cdmetadl.augmentation\n",
    "import cdmetadl.notebooks.helpers\n",
    "import numpy as np\n",
    "import torch\n",
    "import os\n",
    "import plotly.io as pio\n",
    "from PIL import Image\n",
    "import matplotlib.pyplot as plt\n",
    "import cv2\n",
    "from IPython.display import display"
   ]
  },
  {
   "cell_type": "code",
   "execution_count": null,
   "metadata": {},
   "outputs": [],
   "source": [
    "def create_plot(augmentor, task):\n",
    "    augmented_set_generative = augmentor.augment(task.support_set, conf_scores=[0.1, 0.1, 0.1, 0.1, 0.1])\n",
    "\n",
    "    fig = cdmetadl.notebooks.helpers.show_images_grid_plotly(task.support_set)\n",
    "    fig.update_layout(title='Original data')\n",
    "    file_path = \"./figname_support_set.png\"\n",
    "    pio.write_image(fig, file_path)\n",
    "    display(Image.open(file_path))\n",
    "    os.remove(file_path)\n",
    "\n",
    "\n",
    "    fig = cdmetadl.notebooks.helpers.show_images_grid_plotly(augmented_set_generative)\n",
    "    fig.update_layout(title='Generative Augmented data')\n",
    "    file_path = \"./figname_augmented_data.png\"\n",
    "    pio.write_image(fig, file_path)\n",
    "    display(Image.open(file_path))\n",
    "    os.remove(file_path)\n",
    "\n",
    "def generate_edge_map_plot(augmentor):\n",
    "    augmentor.augment(task.support_set, conf_scores=[0.1, 0.1, 0.1, 0.1, 0.1])\n",
    "    # Plotting images for each element in the list\n",
    "    fig, axs = plt.subplots(len(augmentor.generated_images), 3, figsize=(15/2, 5*len(augmentor.generated_images)/2))\n",
    "\n",
    "    for i, data in enumerate(augmentor.generated_images):\n",
    "\n",
    "            axs[i, 0].imshow(data['original_image'])\n",
    "            axs[i, 0].set_title('Original Image')\n",
    "            axs[i, 0].axis('off')\n",
    "\n",
    "            axs[i, 1].imshow(data['edge_map'])\n",
    "            axs[i, 1].set_title('Edge Map')\n",
    "            axs[i, 1].axis('off')\n",
    "\n",
    "            axs[i, 2].imshow(data['generated_image'])\n",
    "            axs[i, 2].set_title('Generated Image')\n",
    "            axs[i, 2].axis('off')\n",
    "    plt.show()"
   ]
  },
  {
   "cell_type": "code",
   "execution_count": null,
   "metadata": {},
   "outputs": [],
   "source": [
    "generative_augmentor = cdmetadl.augmentation.GenerativeAugmentation(threshold=0.75, scale=1,\n",
    "                                                                    annotator_type=\"segmentation\",\n",
    "                                                                    keep_original_data=False,\n",
    "                                                                    cache_images=True)\n",
    "\n",
    "generate_edge_map_plot(generative_augmentor)\n",
    "\n",
    "#<PIL.Image.Image image mode=RGB size=512x512 at 0x7F0FEDE0B810>\n"
   ]
  }
 ],
 "metadata": {
  "kernelspec": {
   "display_name": ".venv",
   "language": "python",
   "name": "python3"
  },
  "language_info": {
   "codemirror_mode": {
    "name": "ipython",
    "version": 3
   },
   "file_extension": ".py",
   "mimetype": "text/x-python",
   "name": "python",
   "nbconvert_exporter": "python",
   "pygments_lexer": "ipython3",
   "version": "3.11.4"
  }
 },
 "nbformat": 4,
 "nbformat_minor": 2
}
