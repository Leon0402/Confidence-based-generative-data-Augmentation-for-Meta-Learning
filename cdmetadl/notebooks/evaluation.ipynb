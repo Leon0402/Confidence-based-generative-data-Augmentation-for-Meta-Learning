{
 "cells": [
  {
   "cell_type": "code",
   "execution_count": null,
   "metadata": {},
   "outputs": [],
   "source": [
    "%load_ext autoreload\n",
    "%autoreload 2"
   ]
  },
  {
   "cell_type": "markdown",
   "metadata": {},
   "source": [
    "# Evaluation"
   ]
  },
  {
   "cell_type": "code",
   "execution_count": null,
   "metadata": {},
   "outputs": [],
   "source": [
    "from pathlib import Path \n",
    "\n",
    "import cdmetadl\n",
    "\n",
    "root_dir = Path(cdmetadl.__file__).parent.parent\n",
    "eval_dir = root_dir / f\"output/full/eval\""
   ]
  },
  {
   "cell_type": "code",
   "execution_count": null,
   "metadata": {},
   "outputs": [],
   "source": [
    "import pandas as pd\n",
    "import plotly.express as px\n",
    "from pathlib import Path\n",
    "\n",
    "def read_df(path: Path) -> pd.DataFrame:\n",
    "    df = pd.read_pickle(path)\n",
    "    path_parts = path.relative_to(eval_dir).parts\n",
    "    df.insert(0, 'Model', path_parts[2])\n",
    "    df.insert(0, 'Mode', path_parts[3])\n",
    "    return df\n",
    "\n",
    "model_dirs = [eval_dir / f\"train_cfg_baseline_k_{k}/eval_cfg_baseline_k_{k}\" for k in [1, 5, 10, 20]]\n",
    "full_df = pd.concat([read_df(filepath) for model_dir in model_dirs for filepath in model_dir.glob('**/evaluation.pkl') ])\n",
    "\n",
    "for mode_name, df in full_df.groupby('Mode'):\n",
    "    df_mean = df.groupby(['Number of Shots', 'Model'])['Normalized Accuracy'].mean().reset_index()\n",
    "    \n",
    "    fig = px.line(\n",
    "        df_mean,\n",
    "        x='Number of Shots',\n",
    "        y='Normalized Accuracy',\n",
    "        color='Model', \n",
    "        title=f'Normalized Accuracy vs. Number of Shots for Mode: {mode_name}',\n",
    "        markers=True,  \n",
    "    )\n",
    "\n",
    "    fig.update_layout(\n",
    "        xaxis_title=\"Number of Shots\",\n",
    "        yaxis_title=\"Normalized Accuracy\",\n",
    "        legend_title=\"Model\"\n",
    "    )\n",
    "\n",
    "    fig.update_xaxes(\n",
    "        tickvals=df_mean['Number of Shots'].unique(),\n",
    "        range=[1, max(df_mean['Number of Shots'])]\n",
    "    )\n",
    "    \n",
    "    fig.show()"
   ]
  }
 ],
 "metadata": {
  "kernelspec": {
   "display_name": ".venv",
   "language": "python",
   "name": "python3"
  },
  "language_info": {
   "codemirror_mode": {
    "name": "ipython",
    "version": 3
   },
   "file_extension": ".py",
   "mimetype": "text/x-python",
   "name": "python",
   "nbconvert_exporter": "python",
   "pygments_lexer": "ipython3",
   "version": "3.11.7"
  }
 },
 "nbformat": 4,
 "nbformat_minor": 2
}
