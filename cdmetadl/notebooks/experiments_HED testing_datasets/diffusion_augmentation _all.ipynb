{
 "cells": [
  {
   "cell_type": "code",
   "execution_count": 1,
   "metadata": {},
   "outputs": [
    {
     "name": "stderr",
     "output_type": "stream",
     "text": [
      "/fastdata/vilab25/cd-metadl-cyLvmR8c-py3.11/lib/python3.11/site-packages/controlnet_aux/mediapipe_face/mediapipe_face_common.py:7: UserWarning: The module 'mediapipe' is not installed. The package will have limited functionality. Please install it using the command: pip install 'mediapipe'\n",
      "  warnings.warn(\n",
      "/fastdata/vilab25/cd-metadl-cyLvmR8c-py3.11/lib/python3.11/site-packages/controlnet_aux/segment_anything/modeling/tiny_vit_sam.py:654: UserWarning: Overwriting tiny_vit_5m_224 in registry with controlnet_aux.segment_anything.modeling.tiny_vit_sam.tiny_vit_5m_224. This is because the name being registered conflicts with an existing name. Please check if this is not expected.\n",
      "  return register_model(fn_wrapper)\n",
      "/fastdata/vilab25/cd-metadl-cyLvmR8c-py3.11/lib/python3.11/site-packages/controlnet_aux/segment_anything/modeling/tiny_vit_sam.py:654: UserWarning: Overwriting tiny_vit_11m_224 in registry with controlnet_aux.segment_anything.modeling.tiny_vit_sam.tiny_vit_11m_224. This is because the name being registered conflicts with an existing name. Please check if this is not expected.\n",
      "  return register_model(fn_wrapper)\n",
      "/fastdata/vilab25/cd-metadl-cyLvmR8c-py3.11/lib/python3.11/site-packages/controlnet_aux/segment_anything/modeling/tiny_vit_sam.py:654: UserWarning: Overwriting tiny_vit_21m_224 in registry with controlnet_aux.segment_anything.modeling.tiny_vit_sam.tiny_vit_21m_224. This is because the name being registered conflicts with an existing name. Please check if this is not expected.\n",
      "  return register_model(fn_wrapper)\n",
      "/fastdata/vilab25/cd-metadl-cyLvmR8c-py3.11/lib/python3.11/site-packages/controlnet_aux/segment_anything/modeling/tiny_vit_sam.py:654: UserWarning: Overwriting tiny_vit_21m_384 in registry with controlnet_aux.segment_anything.modeling.tiny_vit_sam.tiny_vit_21m_384. This is because the name being registered conflicts with an existing name. Please check if this is not expected.\n",
      "  return register_model(fn_wrapper)\n",
      "/fastdata/vilab25/cd-metadl-cyLvmR8c-py3.11/lib/python3.11/site-packages/controlnet_aux/segment_anything/modeling/tiny_vit_sam.py:654: UserWarning: Overwriting tiny_vit_21m_512 in registry with controlnet_aux.segment_anything.modeling.tiny_vit_sam.tiny_vit_21m_512. This is because the name being registered conflicts with an existing name. Please check if this is not expected.\n",
      "  return register_model(fn_wrapper)\n"
     ]
    }
   ],
   "source": [
    "import pathlib\n",
    "import cdmetadl.helpers.general_helpers\n",
    "import cdmetadl.dataset\n",
    "import cdmetadl.samplers\n",
    "import cdmetadl.augmentation\n",
    "import matplotlib.pyplot as plt\n",
    "import os\n",
    "from tqdm import tqdm\n",
    "\n",
    "%load_ext autoreload\n",
    "%autoreload 2\n",
    "%matplotlib inline  "
   ]
  },
  {
   "cell_type": "code",
   "execution_count": 12,
   "metadata": {},
   "outputs": [
    {
     "data": {
      "application/vnd.jupyter.widget-view+json": {
       "model_id": "f3444d629d8c46a7b04ed85e95bb9cae",
       "version_major": 2,
       "version_minor": 0
      },
      "text/plain": [
       "Loading pipeline components...:   0%|          | 0/6 [00:00<?, ?it/s]"
      ]
     },
     "metadata": {},
     "output_type": "display_data"
    }
   ],
   "source": [
    "path_to_dataset = \"/fastdata/vilab24/meta-album\"\n",
    "\n",
    "\n",
    "for dataset_name in [\"ACT_410\", \"AWA\", \"BTS\", \"FNG\", \"PRT\", \"BRD\", \"BCT\"]:\n",
    "    dataset_path = pathlib.Path(path_to_dataset)\n",
    "    dataset_info_dict = cdmetadl.helpers.general_helpers.check_datasets(dataset_path, [dataset_name])\n",
    "\n",
    "    dataset = cdmetadl.dataset.ImageDataset(dataset_name, dataset_info_dict[dataset_name])\n",
    "\n",
    "    n_way_sampler = cdmetadl.samplers.ValueSampler(value=10)\n",
    "    k_shot_sampler = cdmetadl.samplers.ValueSampler(value=10)\n",
    "\n",
    "    task = dataset.generate_task(n_way_sampler, k_shot_sampler, query_size=4)\n",
    "\n",
    "    augmentation_size = {\"threshold\": 0.75,\n",
    "                        \"scale\": 1,\n",
    "                        \"offset\": 5,\n",
    "                        \"maximum\": 15}\n",
    "\n",
    "    device = \"cuda:3\"\n",
    "\n",
    "    all_images = []\n",
    "\n",
    "    generative_augmentor = cdmetadl.augmentation.GenerativeAugmentation(augmentation_size,\n",
    "                                                                        device=device,\n",
    "                                                                        annotator_type=\"hed\",\n",
    "                                                                        keep_original_data=False,\n",
    "                                                                        cache_images=True,\n",
    "                                                                        guessing_mode=False)\n",
    "\n",
    "    generative_augmentor.augment(task.support_set, conf_scores=task.number_of_ways*[0.1])\n",
    "\n",
    "    for i, item in enumerate(generative_augmentor.generated_images):\n",
    "            fig, axes = plt.subplots(1, 2, figsize=(10, 5))\n",
    "            \n",
    "            axes[0].imshow(item['original_image'])\n",
    "            axes[0].set_title('Original Image')\n",
    "            axes[0].axis('off')\n",
    "            \n",
    "            axes[1].imshow(item['generated_image'])\n",
    "            axes[1].set_title('Generated Image')\n",
    "            axes[1].axis('off')\n",
    "\n",
    "            # Create the directory if it doesn't exist\n",
    "            directory = '/visinf/home/vilab25/examples_experiments/failure_cases/'\n",
    "            \n",
    "            plt.tight_layout()\n",
    "\n",
    "            # Save the figure to the specified path\n",
    "            fig.savefig(os.path.join(directory, f'example_{dataset_name}_{i}_{item['classname']}.png'))\n",
    "            \n",
    "            plt.close(fig)  # Close the figure to free up memory\n",
    "\n",
    "    print(\"Images saved successfully.\")\n"
   ]
  },
  {
   "cell_type": "markdown",
   "metadata": {},
   "source": []
  }
 ],
 "metadata": {
  "kernelspec": {
   "display_name": ".venv",
   "language": "python",
   "name": "python3"
  },
  "language_info": {
   "codemirror_mode": {
    "name": "ipython",
    "version": 3
   },
   "file_extension": ".py",
   "mimetype": "text/x-python",
   "name": "python",
   "nbconvert_exporter": "python",
   "pygments_lexer": "ipython3",
   "version": "3.11.5"
  }
 },
 "nbformat": 4,
 "nbformat_minor": 2
}
