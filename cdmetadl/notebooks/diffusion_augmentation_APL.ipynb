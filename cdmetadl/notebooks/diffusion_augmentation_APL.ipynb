{
 "cells": [
  {
   "cell_type": "code",
   "execution_count": 17,
   "metadata": {},
   "outputs": [
    {
     "name": "stdout",
     "output_type": "stream",
     "text": [
      "The autoreload extension is already loaded. To reload it, use:\n",
      "  %reload_ext autoreload\n"
     ]
    }
   ],
   "source": [
    "%load_ext autoreload\n",
    "%autoreload 2\n",
    "%matplotlib inline  "
   ]
  },
  {
   "cell_type": "code",
   "execution_count": 18,
   "metadata": {},
   "outputs": [],
   "source": [
    "path_to_dataset = \"/fastdata/vilab24/meta-album\""
   ]
  },
  {
   "cell_type": "code",
   "execution_count": 19,
   "metadata": {},
   "outputs": [],
   "source": [
    "import pathlib\n",
    "\n",
    "import cdmetadl.helpers.general_helpers\n",
    "import cdmetadl.dataset\n",
    "\n",
    "dataset_path = pathlib.Path(path_to_dataset)\n",
    "dataset_info_dict = cdmetadl.helpers.general_helpers.check_datasets(dataset_path, [\"CRS\"])\n",
    "\n",
    "dataset = cdmetadl.dataset.ImageDataset(\"Cars\", dataset_info_dict[\"CRS\"])"
   ]
  },
  {
   "cell_type": "code",
   "execution_count": 20,
   "metadata": {},
   "outputs": [],
   "source": [
    "import cdmetadl.samplers\n",
    "\n",
    "n_way_sampler = cdmetadl.samplers.ValueSampler(value=5)\n",
    "k_shot_sampler = cdmetadl.samplers.ValueSampler(value=4)\n",
    "\n",
    "task = dataset.generate_task(n_way_sampler, k_shot_sampler, query_size=4)"
   ]
  },
  {
   "cell_type": "code",
   "execution_count": 21,
   "metadata": {},
   "outputs": [],
   "source": [
    "import cdmetadl.augmentation\n",
    "import cdmetadl.notebooks.helpers\n",
    "import numpy as np\n",
    "import torch\n",
    "import os\n",
    "import plotly.io as pio\n",
    "from PIL import Image\n",
    "import cv2\n",
    "from IPython.display import display"
   ]
  },
  {
   "cell_type": "code",
   "execution_count": 22,
   "metadata": {},
   "outputs": [],
   "source": [
    "def create_plot(augmentor, task):\n",
    "    augmented_set_generative = augmentor.augment(task.support_set, conf_scores=[0.1, 0.1, 0.1, 0.1, 0.1])\n",
    "\n",
    "    fig = cdmetadl.notebooks.helpers.show_images_grid_plotly(task.support_set)\n",
    "    fig.update_layout(title='Original data')\n",
    "    file_path = \"./figname_support_set.png\"\n",
    "    pio.write_image(fig, file_path)\n",
    "    display(Image.open(file_path))\n",
    "    os.remove(file_path)\n",
    "\n",
    "\n",
    "    fig = cdmetadl.notebooks.helpers.show_images_grid_plotly(augmented_set_generative)\n",
    "    fig.update_layout(title='Generative Augmented data')\n",
    "    file_path = \"./figname_augmented_data.png\"\n",
    "    pio.write_image(fig, file_path)\n",
    "    display(Image.open(file_path))\n",
    "    os.remove(file_path)\n"
   ]
  },
  {
   "cell_type": "markdown",
   "metadata": {},
   "source": [
    "## Canny Edge Detection + ControlNet Canny"
   ]
  },
  {
   "cell_type": "code",
   "execution_count": 23,
   "metadata": {},
   "outputs": [
    {
     "ename": "TypeError",
     "evalue": "GenerativeAugmentation.__init__() got an unexpected keyword argument 'scale'",
     "output_type": "error",
     "traceback": [
      "\u001b[0;31m---------------------------------------------------------------------------\u001b[0m",
      "\u001b[0;31mTypeError\u001b[0m                                 Traceback (most recent call last)",
      "Cell \u001b[0;32mIn[23], line 1\u001b[0m\n\u001b[0;32m----> 1\u001b[0m generative_augmentor \u001b[38;5;241m=\u001b[39m \u001b[43mcdmetadl\u001b[49m\u001b[38;5;241;43m.\u001b[39;49m\u001b[43maugmentation\u001b[49m\u001b[38;5;241;43m.\u001b[39;49m\u001b[43mGenerativeAugmentation\u001b[49m\u001b[43m(\u001b[49m\u001b[43mthreshold\u001b[49m\u001b[38;5;241;43m=\u001b[39;49m\u001b[38;5;241;43m0.75\u001b[39;49m\u001b[43m,\u001b[49m\u001b[43m \u001b[49m\u001b[43mscale\u001b[49m\u001b[38;5;241;43m=\u001b[39;49m\u001b[38;5;241;43m1.0\u001b[39;49m\u001b[43m,\u001b[49m\n\u001b[1;32m      2\u001b[0m \u001b[43m                                                                    \u001b[49m\u001b[43mannotator_type\u001b[49m\u001b[38;5;241;43m=\u001b[39;49m\u001b[38;5;124;43m\"\u001b[39;49m\u001b[38;5;124;43mcanny\u001b[39;49m\u001b[38;5;124;43m\"\u001b[39;49m\u001b[43m,\u001b[49m\n\u001b[1;32m      3\u001b[0m \u001b[43m                                                                        \u001b[49m\u001b[43mkeep_original_data\u001b[49m\u001b[38;5;241;43m=\u001b[39;49m\u001b[38;5;28;43;01mFalse\u001b[39;49;00m\u001b[43m)\u001b[49m\n\u001b[1;32m      5\u001b[0m create_plot(generative_augmentor, task)\n",
      "\u001b[0;31mTypeError\u001b[0m: GenerativeAugmentation.__init__() got an unexpected keyword argument 'scale'"
     ]
    }
   ],
   "source": [
    "generative_augmentor = cdmetadl.augmentation.GenerativeAugmentation(threshold=0.75, augmentation_size = {}\n",
    "                                                                    annotator_type=\"canny\",\n",
    "                                                                        keep_original_data=False)\n",
    "\n",
    "create_plot(generative_augmentor, task)"
   ]
  },
  {
   "cell_type": "markdown",
   "metadata": {},
   "source": [
    "## Segmentation Edge Detection + ControlNet Seg"
   ]
  },
  {
   "cell_type": "code",
   "execution_count": null,
   "metadata": {},
   "outputs": [],
   "source": [
    "generative_augmentor = cdmetadl.augmentation.GenerativeAugmentation(threshold=0.75, scale=1.0,\n",
    "                                                                    annotator_type=\"segmentation\",\n",
    "                                                                        keep_original_data=False)\n",
    "\n",
    "create_plot(generative_augmentor, task)"
   ]
  },
  {
   "cell_type": "markdown",
   "metadata": {},
   "source": [
    "## HED Boundaries+ ControlNet HED"
   ]
  },
  {
   "cell_type": "code",
   "execution_count": null,
   "metadata": {},
   "outputs": [],
   "source": [
    "generative_augmentor = cdmetadl.augmentation.GenerativeAugmentation(threshold=0.75, scale=1.0,\n",
    "                                                                    annotator_type=\"hed\",\n",
    "                                                                        keep_original_data=False)\n",
    "\n",
    "create_plot(generative_augmentor, task)"
   ]
  },
  {
   "cell_type": "markdown",
   "metadata": {},
   "source": [
    "## M-LSD Lines + ControlNet M-LSD"
   ]
  },
  {
   "cell_type": "code",
   "execution_count": null,
   "metadata": {},
   "outputs": [],
   "source": [
    "generative_augmentor = cdmetadl.augmentation.GenerativeAugmentation(threshold=0.75, scale=1.0,\n",
    "                                                                    annotator_type=\"mlsd\",\n",
    "                                                                        keep_original_data=False)\n",
    "\n",
    "create_plot(generative_augmentor, task)"
   ]
  },
  {
   "cell_type": "markdown",
   "metadata": {},
   "source": [
    "## Midas Depth Maps + ControlNet Normal"
   ]
  },
  {
   "cell_type": "code",
   "execution_count": null,
   "metadata": {},
   "outputs": [],
   "source": [
    "generative_augmentor = cdmetadl.augmentation.GenerativeAugmentation(threshold=0.75, scale=1.0,\n",
    "                                                                    annotator_type=\"midas\",\n",
    "                                                                        keep_original_data=False)\n",
    "\n",
    "create_plot(generative_augmentor, task)"
   ]
  }
 ],
 "metadata": {
  "kernelspec": {
   "display_name": ".venv",
   "language": "python",
   "name": "python3"
  },
  "language_info": {
   "codemirror_mode": {
    "name": "ipython",
    "version": 3
   },
   "file_extension": ".py",
   "mimetype": "text/x-python",
   "name": "python",
   "nbconvert_exporter": "python",
   "pygments_lexer": "ipython3",
   "version": "3.11.5"
  }
 },
 "nbformat": 4,
 "nbformat_minor": 2
}
