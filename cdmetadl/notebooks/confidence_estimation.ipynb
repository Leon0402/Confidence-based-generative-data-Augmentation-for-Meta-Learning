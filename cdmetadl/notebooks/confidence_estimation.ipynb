{
 "cells": [
  {
   "cell_type": "code",
   "execution_count": null,
   "metadata": {},
   "outputs": [],
   "source": [
    "%load_ext autoreload\n",
    "%autoreload 2"
   ]
  },
  {
   "cell_type": "code",
   "execution_count": null,
   "metadata": {},
   "outputs": [],
   "source": [
    "path_to_dataset = \"../../public_data\""
   ]
  },
  {
   "cell_type": "markdown",
   "metadata": {},
   "source": [
    "# Confidence Estimation"
   ]
  },
  {
   "cell_type": "code",
   "execution_count": null,
   "metadata": {},
   "outputs": [],
   "source": [
    "import pathlib\n",
    "import cdmetadl\n",
    "\n",
    "PROJECT_DIR = pathlib.Path(cdmetadl.__file__).parent.parent"
   ]
  },
  {
   "cell_type": "code",
   "execution_count": null,
   "metadata": {},
   "outputs": [],
   "source": [
    "import pathlib\n",
    "\n",
    "import cdmetadl.helpers.general_helpers\n",
    "import cdmetadl.dataset\n",
    "\n",
    "dataset_path = pathlib.Path(path_to_dataset)\n",
    "dataset_info_dict = cdmetadl.helpers.general_helpers.check_datasets(dataset_path, [\"SPT\"])\n",
    "\n",
    "dataset = cdmetadl.dataset.ImageDataset(\"Sports\", dataset_info_dict[\"SPT\"])"
   ]
  },
  {
   "cell_type": "code",
   "execution_count": null,
   "metadata": {},
   "outputs": [],
   "source": [
    "import cdmetadl.samplers\n",
    "\n",
    "n_way_sampler = cdmetadl.samplers.ValueSampler(value=5)\n",
    "k_shot_sampler = cdmetadl.samplers.ValueSampler(value=4)\n",
    "\n",
    "task = dataset.generate_task(n_way_sampler, k_shot_sampler, query_size=4)"
   ]
  },
  {
   "cell_type": "code",
   "execution_count": null,
   "metadata": {},
   "outputs": [],
   "source": [
    "import cdmetadl.helpers.general_helpers\n",
    "\n",
    "model_module = cdmetadl.helpers.general_helpers.load_module_from_path(PROJECT_DIR / \"baselines/finetuning/model.py\")\n",
    "learner = model_module.MyLearner()\n",
    "learner.load(PROJECT_DIR / \"output/full/training/baseline/finetuning/cross-domain/model\")"
   ]
  },
  {
   "cell_type": "markdown",
   "metadata": {},
   "source": [
    "## Pseudo Confidence Estimation"
   ]
  },
  {
   "cell_type": "code",
   "execution_count": null,
   "metadata": {},
   "outputs": [],
   "source": [
    "import cdmetadl.confidence\n",
    "import cdmetadl.notebooks.helpers\n",
    "\n",
    "confidence_estimator = cdmetadl.confidence.PseudoConfidenceEstimator()\n",
    "_, confidence_scores = confidence_estimator.estimate(learner, task.query_set)\n",
    "print(confidence_scores)\n",
    "\n",
    "fig = cdmetadl.notebooks.helpers.show_images_grid_plotly(task.support_set)\n",
    "fig.update_layout(title='Original data')\n",
    "fig.show()"
   ]
  },
  {
   "cell_type": "markdown",
   "metadata": {},
   "source": [
    "## Monte Carlo Dropout Confidence Estimation"
   ]
  },
  {
   "cell_type": "code",
   "execution_count": null,
   "metadata": {},
   "outputs": [],
   "source": [
    "import cdmetadl.confidence\n",
    "import cdmetadl.notebooks.helpers\n",
    "\n",
    "confidence_estimator = cdmetadl.confidence.MCDropoutConfidenceEstimator()\n",
    "_, confidence_scores = confidence_estimator.estimate(learner, task.query_set)\n",
    "print(confidence_scores)\n",
    "\n",
    "fig = cdmetadl.notebooks.helpers.show_images_grid_plotly(task.support_set)\n",
    "fig.update_layout(title='Original data')\n",
    "fig.show()"
   ]
  }
 ],
 "metadata": {
  "kernelspec": {
   "display_name": ".venv",
   "language": "python",
   "name": "python3"
  },
  "language_info": {
   "codemirror_mode": {
    "name": "ipython",
    "version": 3
   },
   "file_extension": ".py",
   "mimetype": "text/x-python",
   "name": "python",
   "nbconvert_exporter": "python",
   "pygments_lexer": "ipython3",
   "version": "3.11.7"
  }
 },
 "nbformat": 4,
 "nbformat_minor": 2
}
