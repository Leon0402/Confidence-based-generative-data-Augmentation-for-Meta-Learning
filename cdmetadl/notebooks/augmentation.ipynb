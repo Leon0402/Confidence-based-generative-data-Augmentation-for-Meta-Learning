{
 "cells": [
  {
   "cell_type": "code",
   "execution_count": null,
   "metadata": {},
   "outputs": [],
   "source": [
    "%load_ext autoreload\n",
    "%autoreload 2"
   ]
  },
  {
   "cell_type": "markdown",
   "metadata": {},
   "source": [
    "# Augmentation"
   ]
  },
  {
   "cell_type": "code",
   "execution_count": null,
   "metadata": {},
   "outputs": [],
   "source": [
    "import pathlib\n",
    "\n",
    "import cdmetadl.helpers.general_helpers\n",
    "import cdmetadl.dataset\n",
    "\n",
    "dataset_path = pathlib.Path(\"../../public_data\")\n",
    "dataset_info_dict = cdmetadl.helpers.general_helpers.check_datasets(dataset_path, [\"SPT\"])\n",
    "\n",
    "dataset = cdmetadl.dataset.ImageDataset(\"Sports\", dataset_info_dict[\"SPT\"])"
   ]
  },
  {
   "cell_type": "code",
   "execution_count": null,
   "metadata": {},
   "outputs": [],
   "source": [
    "import cdmetadl.samplers\n",
    "\n",
    "n_way_sampler = cdmetadl.samplers.ValueSampler(value=5)\n",
    "k_shot_sampler = cdmetadl.samplers.ValueSampler(value=4)\n",
    "\n",
    "task = dataset.generate_task(n_way_sampler, k_shot_sampler, query_size=4)"
   ]
  },
  {
   "cell_type": "markdown",
   "metadata": {},
   "source": [
    "## Standard Augmentation"
   ]
  },
  {
   "cell_type": "code",
   "execution_count": null,
   "metadata": {},
   "outputs": [],
   "source": [
    "import cdmetadl.augmentation\n",
    "import cdmetadl.notebooks.helpers\n",
    "\n",
    "standard_augmentor = cdmetadl.augmentation.StandardAugmentation(threshold=0.75, scale=1.0, keep_original_data=False)\n",
    "augmented_set_standard = standard_augmentor.augment(task.support_set, conf_scores=[0.0, 1.0, 0.5, 0.75, 0.3])\n",
    "\n",
    "fig = cdmetadl.notebooks.helpers.show_images_grid_plotly(task.support_set)\n",
    "fig.update_layout(title='Original data')\n",
    "fig.show()\n",
    "fig = cdmetadl.notebooks.helpers.show_images_grid_plotly(augmented_set_standard)\n",
    "fig.update_layout(title='Augmented data')"
   ]
  },
  {
   "cell_type": "markdown",
   "metadata": {},
   "source": [
    "## Pseudo Augmenation"
   ]
  },
  {
   "cell_type": "code",
   "execution_count": null,
   "metadata": {},
   "outputs": [],
   "source": [
    "import cdmetadl.augmentation\n",
    "import cdmetadl.notebooks.helpers\n",
    "\n",
    "pseudo_augmentor = cdmetadl.augmentation.PseudoAugmentation(\n",
    "    threshold=0.75, scale=1.0, keep_original_data=False\n",
    ")\n",
    "augmented_set_pseudo = pseudo_augmentor.augment(task.support_set, conf_scores=[0.0, 1.0, 0.5, 0.75, 0.3])\n",
    "\n",
    "fig = cdmetadl.notebooks.helpers.show_images_grid_plotly(task.support_set)\n",
    "fig.update_layout(title='Original data')\n",
    "fig.show()\n",
    "fig = cdmetadl.notebooks.helpers.show_images_grid_plotly(augmented_set_pseudo)\n",
    "fig.update_layout(title='Pseudo Augmented data')"
   ]
  },
  {
   "cell_type": "markdown",
   "metadata": {},
   "source": [
    "## Generative Augmentation"
   ]
  },
  {
   "cell_type": "code",
   "execution_count": null,
   "metadata": {},
   "outputs": [],
   "source": [
    "import cdmetadl.augmentation\n",
    "import cdmetadl.notebooks.helpers\n",
    "\n",
    "generative_augmentor = cdmetadl.augmentation.GenerativeAugmentation(threshold=0.75, scale=1.0, keep_original_data=False)\n",
    "augmented_set_generative = generative_augmentor.augment(task.support_set, conf_scores=[0.0, 1.0, 0.5, 0.75, 0.3])\n",
    "\n",
    "fig = cdmetadl.notebooks.helpers.show_images_grid_plotly(task.support_set)\n",
    "fig.update_layout(title='Original data')\n",
    "fig.show()\n",
    "fig = cdmetadl.notebooks.helpers.show_images_grid_plotly(augmented_set_generative)\n",
    "fig.update_layout(title='Generative Augmented data')"
   ]
  }
 ],
 "metadata": {
  "kernelspec": {
   "display_name": ".venv",
   "language": "python",
   "name": "python3"
  },
  "language_info": {
   "codemirror_mode": {
    "name": "ipython",
    "version": 3
   },
   "file_extension": ".py",
   "mimetype": "text/x-python",
   "name": "python",
   "nbconvert_exporter": "python",
   "pygments_lexer": "ipython3",
   "version": "3.11.7"
  }
 },
 "nbformat": 4,
 "nbformat_minor": 2
}
