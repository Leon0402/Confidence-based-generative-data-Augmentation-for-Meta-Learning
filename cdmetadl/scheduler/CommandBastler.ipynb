{
 "cells": [
  {
   "cell_type": "code",
   "execution_count": 18,
   "metadata": {},
   "outputs": [
    {
     "name": "stdout",
     "output_type": "stream",
     "text": [
      "CSV file 'scripts.csv' has been created successfully.\n"
     ]
    }
   ],
   "source": [
    "import csv\n",
    "\n",
    "commands = []\n",
    "\n",
    "base_path = \"/visinf/home/vilab25/Confidence-based-generative-data-Augmentation-for-Meta-Learning\"\n",
    "for mode in [\"run_within_domain\", \"run_cross_domain\"]:\n",
    "    if \"run_within_domain\":\n",
    "        mode_shortcut = \"WD\"\n",
    "    else:\n",
    "        mode_shortcut = \"CD\"\n",
    "    \n",
    "\n",
    "    for model in [\"finetuning\", \"maml\"]:\n",
    "        \n",
    "        for dropout_mode in [\"baseline\", \"dropout\"]:\n",
    "            \n",
    "            for k in [1, 5, 10]:\n",
    "                cmd_strig = f\"\"\"{base_path}/scripts/isolated_run.sh \\\n",
    "                {base_path}/scripts/train/train.sh \\\n",
    "                --datasets_dir \"/fastdata/vilab24/meta-album\" \\\n",
    "                --{mode} \\\n",
    "                --model_dir \"baselines/{model}\" \\\n",
    "                --config_path \"{base_path}/configs/train/{dropout_mode}/{mode_shortcut}/{dropout_mode}_k_{k}.yml\" \\\n",
    "                --output_dir \"/fastdata/vilab25/output/scheduler/training\" \\\n",
    "                --log_file /visinf/home/vilab25/logs/train_{mode}_{model}_{dropout_mode}_k_{k}.log\n",
    "                \"\"\"\n",
    "                \n",
    "                commands.append(cmd_strig)\n",
    "                \n",
    "                \n",
    "\n",
    "# Write commands to CSV file\n",
    "csv_file_path = \"scripts.csv\"\n",
    "with open(csv_file_path, mode='w', newline='') as file:\n",
    "    writer = csv.writer(file)\n",
    "    writer.writerow([\"ID\", \"command\", \"status\", \"attached to process\", \"attached to gpu\", \"process alive\", \"expected_cpu_usage (in %)\", \"expected_gpu_usage (in MB)\", \"timestamp_started\", \"last_timestamp\"])\n",
    "    for index, cmd in enumerate(commands, start=1):\n",
    "        writer.writerow([index, cmd, \"waiting\", \" \", \" \", \" \", \"1800\", \"3500\", \" \", \" \"])\n",
    "\n",
    "print(f\"CSV file '{csv_file_path}' has been created successfully.\")"
   ]
  }
 ],
 "metadata": {
  "kernelspec": {
   "display_name": "cd-metadl-cyLvmR8c-py3.11",
   "language": "python",
   "name": "python3"
  },
  "language_info": {
   "codemirror_mode": {
    "name": "ipython",
    "version": 3
   },
   "file_extension": ".py",
   "mimetype": "text/x-python",
   "name": "python",
   "nbconvert_exporter": "python",
   "pygments_lexer": "ipython3",
   "version": "3.11.5"
  }
 },
 "nbformat": 4,
 "nbformat_minor": 2
}
