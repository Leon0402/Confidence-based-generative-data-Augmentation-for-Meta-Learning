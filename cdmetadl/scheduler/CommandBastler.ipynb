{
 "cells": [
  {
   "cell_type": "code",
   "execution_count": 15,
   "metadata": {},
   "outputs": [
    {
     "name": "stdout",
     "output_type": "stream",
     "text": [
      "CSV file 'scripts1.csv' has been created successfully.\n",
      "CSV file 'scripts2.csv' has been created successfully.\n"
     ]
    }
   ],
   "source": [
    "import csv\n",
    "\n",
    "train_commands = []\n",
    "\n",
    "base_path = \"/visinf/home/vilab25/Confidence-based-generative-data-Augmentation-for-Meta-Learning\"\n",
    "for mode in [\"run_within_domain\", \"run_cross_domain\"]:\n",
    "    if \"run_within_domain\":\n",
    "        mode_shortcut = \"WD\"\n",
    "    else:\n",
    "        mode_shortcut = \"CD\"\n",
    "    \n",
    "\n",
    "    for model in [\"finetuning\", \"maml\"]:\n",
    "        \n",
    "        for dropout_mode in [\"baseline\", \"dropout\"]:\n",
    "            \n",
    "            for k in [1, 5, 10]:\n",
    "                cmd_strig = f\"\"\"{base_path}/scripts/isolated_run.sh \\\n",
    "                {base_path}/scripts/train/train.sh \\\n",
    "                --datasets_dir \"/fastdata/vilab24/meta-album\" \\\n",
    "                --{mode} \\\n",
    "                --model_dir \"baselines/{model}\" \\\n",
    "                --config_path \"{base_path}/configs/train/{dropout_mode}/{mode_shortcut}/{dropout_mode}_k_{k}.yml\" \\\n",
    "                --output_dir \"/fastdata/vilab25/output/scheduler/training\" \\\n",
    "                --log_file /visinf/home/vilab25/logs/train_{mode}_{model}_{dropout_mode}_k_{k}.log\n",
    "                \"\"\"\n",
    "                \n",
    "                train_commands.append(cmd_strig)\n",
    "                \n",
    "                \n",
    "\n",
    "# Write commands to CSV file\n",
    "csv_file_path = \"scripts1.csv\"\n",
    "with open(csv_file_path, mode='w', newline='') as file:\n",
    "    writer = csv.writer(file)\n",
    "\n",
    "    writer.writerow([\"ID\", \"command\", \"status\", \"attached to process\", \"attached to gpu\", \"process alive\", \"expected_cpu_usage (in %)\", \"expected_gpu_usage (in MB)\", \"timestamp_started\", \"last_timestamp\"])\n",
    "    for index, cmd in enumerate(train_commands[::2], start=1):\n",
    "        writer.writerow([index, cmd, \"waiting\", \" \", \" \", \" \", \"1800\", \"3500\", \" \", \" \"])\n",
    "\n",
    "print(f\"CSV file '{csv_file_path}' has been created successfully.\")\n",
    "\n",
    "# Write commands to CSV file\n",
    "csv_file_path = \"scripts2.csv\"\n",
    "with open(csv_file_path, mode='w', newline='') as file:\n",
    "    writer = csv.writer(file)\n",
    "\n",
    "    writer.writerow([\"ID\", \"command\", \"status\", \"attached to process\", \"attached to gpu\", \"process alive\", \"expected_cpu_usage (in %)\", \"expected_gpu_usage (in MB)\", \"timestamp_started\", \"last_timestamp\"])\n",
    "    for index, cmd in enumerate(train_commands[1::2], start=1):\n",
    "        writer.writerow([index, cmd, \"waiting\", \" \", \" \", \" \", \"1800\", \"3500\", \" \", \" \"])\n",
    "\n",
    "print(f\"CSV file '{csv_file_path}' has been created successfully.\")"
   ]
  },
  {
   "cell_type": "code",
   "execution_count": 1,
   "metadata": {},
   "outputs": [],
   "source": [
    "def cmd_script_eval(base_path, k, mode, model_type):\n",
    "    return f\"\"\"{base_path}/scripts/isolated_run.sh \\\n",
    "            {base_path}/scripts/train/train.sh \\\n",
    "            --datasets_dir \"/fastdata/vilab24/meta-album\" \\\n",
    "            --ks \"{k}\" \\\n",
    "            --{mode} \\\n",
    "            --model_path \"/fastdata/vilab25/output/scheduler/training/{model_type}\" \\\n",
    "            --model {model} \\\n",
    "            --config_path \"configs/eval/standard_augmentation/mc_dropout/standard_augment_mc\" \\\n",
    "            --output_dir \"/fastdata/vilab25/output/scheduler/eval/\" \\\n",
    "            --log_file /visinf/home/vilab25/logs/eval_{k}_{model}_{mode}.log\n",
    "            \"\"\"\n",
    "    \n",
    "def yaml_script_eval(k, augmentation_method, confidence_method):\n",
    "    confidence_estimator_str = {\"baseline\": '\"ConstantConfidenceProvider\"',\n",
    "                                \"mc_dropout\": '\"MCDropoutConfidenceEstimator\"',\n",
    "                                \"gt_confidence\": '\"GTConfidenceEstimator\"'}[confidence_method]\n",
    "        \n",
    "    augmentation_method_str = {\"baseline\": 'null',\n",
    "                                \"generative_augmentation\": '\"GenerativeAugmentation\"',\n",
    "                                \"pseudo_augmentation\": '\"PseudoAugmentation\"',\n",
    "                                \"standard_augmentation\": '\"StandardAugmentation\"'}[augmentation_method]\n",
    "    \n",
    "    \n",
    "    return f\"\"\"dataset: \n",
    "test: \n",
    "    n_ways:\n",
    "        value: 5\n",
    "    k_shots: \n",
    "        value: {k + 10*(augmentation_method_str == '\"PseudoAugmentation\"')}\n",
    "    query_size: 20\n",
    "        \n",
    "evaluation:\n",
    "    tasks_per_dataset: 100\n",
    "    confidence_estimators:\n",
    "        use: {confidence_estimator_str}\n",
    "        ConstantConfidenceProvider:\n",
    "            confidence: {int(augmentation_method_str == 'null')} #1 if augmentation_method = baseline, if conidence_method = \"baseline\" = 0\n",
    "\t    GTConfidenceEstimator: {\"{}\"} \n",
    "        MCDropoutConfidenceEstimator:\n",
    "            num_samples: 100\n",
    "\n",
    "    augmentors:\n",
    "\t    use: {augmentation_method_str}\n",
    "       \tPseudoAugmentation: \n",
    "            keep_original_data: True\n",
    "            augmentation_size: \n",
    "                scale: 1\n",
    "                offset: 3 \n",
    "                maximum: 20\n",
    "                threshold: 0.8\n",
    "        StandardAugmentation:\n",
    "            threshold: 0.75\n",
    "            scale: 2\n",
    "            keep_original_data: True\n",
    "            rotation: 25\n",
    "            flip: True\n",
    "        GenerativeAugmentation:\n",
    "            keep_original_data: True\n",
    "            augmentation_size: \n",
    "                scale: 1\n",
    "                offset: 3 \n",
    "                maximum: 20\n",
    "                threshold: 0.8\n",
    "            annotator_type: \"hed\"\n",
    "\"\"\""
   ]
  },
  {
   "cell_type": "code",
   "execution_count": 8,
   "metadata": {},
   "outputs": [
    {
     "data": {
      "text/plain": [
       "72"
      ]
     },
     "execution_count": 8,
     "metadata": {},
     "output_type": "execute_result"
    }
   ],
   "source": [
    "eval_commands = []\n",
    "yaml_scripts = []\n",
    "base_path = \"/visinf/home/vilab25/Confidence-based-generative-data-Augmentation-for-Meta-Learning\"\n",
    "\n",
    "for k in [1, 5, 10]:\n",
    "    for model in [\"finetuning\", \"maml\"]:\n",
    "        for mode in [\"run_within_domain\", \"run_cross_domain\"]:\n",
    "            for model_type in [\"baseline\", \"dropout\"]:\n",
    "            \n",
    "                if model_type == \"baseline\":\n",
    "                    confidence_methods = [\"baseline\"]\n",
    "                          \n",
    "                elif model_type == \"dropout\":\n",
    "                    confidence_methods = [\"baseline\", \"mc_dropout\"]\n",
    "\n",
    "                for augmentation_method in [\"baseline\", \"generative_augmentation\", \"standard_augmentation\"]:\n",
    "                    \n",
    "                    if augmentation_method == \"baseline\":\n",
    "                        confidence_methods = [\"baseline\"]\n",
    "                                                                                       \n",
    "                    \n",
    "                    for confidence_method in confidence_methods:\n",
    "                        eval_commands.append(cmd_script_eval(base_path, k, mode, model_type))\n",
    "                        yaml_scripts.append(f\"{k},{model},{mode},{model_type}\"+yaml_script_eval(k, augmentation_method, confidence_method))\n",
    "                                             \n",
    "len(eval_commands)"
   ]
  },
  {
   "cell_type": "code",
   "execution_count": 28,
   "metadata": {},
   "outputs": [
    {
     "name": "stdout",
     "output_type": "stream",
     "text": [
      "Selected Config\n",
      "('baseline', 'baseline', 'baseline')\n",
      "('dropout', 'baseline', 'baseline')\n",
      "('dropout', 'baseline', 'standard_aug')\n",
      "('dropout', 'baseline', 'gen_aug')\n",
      "('dropout', 'baseline', 'pseudo_aug')\n",
      "('dropout', 'mc', 'standard_aug')\n",
      "('dropout', 'mc', 'gen_aug')\n",
      "('dropout', 'mc', 'pseudo_aug')\n",
      "('dropout', 'gt', 'standard_aug')\n",
      "('dropout', 'gt', 'gen_aug')\n",
      "('dropout', 'gt', 'pseudo_aug')\n",
      "11\n",
      "Ignored Config\n",
      "('baseline', 'baseline', 'standard_aug')\n",
      "('baseline', 'baseline', 'gen_aug')\n",
      "('baseline', 'baseline', 'pseudo_aug')\n",
      "('baseline', 'mc', 'baseline')\n",
      "('baseline', 'mc', 'standard_aug')\n",
      "('baseline', 'mc', 'gen_aug')\n",
      "('baseline', 'mc', 'pseudo_aug')\n",
      "('baseline', 'gt', 'baseline')\n",
      "('baseline', 'gt', 'standard_aug')\n",
      "('baseline', 'gt', 'gen_aug')\n",
      "('baseline', 'gt', 'pseudo_aug')\n",
      "('dropout', 'mc', 'baseline')\n",
      "('dropout', 'gt', 'baseline')\n",
      "13\n"
     ]
    }
   ],
   "source": [
    "import itertools\n",
    "\n",
    "model_type = [\"baseline\", \"dropout\"]\n",
    "confidence_method = [\"baseline\", \"mc\", \"gt\"]\n",
    "data_aug = [\"baseline\", \"standard_aug\", \"gen_aug\", \"pseudo_aug\"]\n",
    "\n",
    "ignored_config = []\n",
    "configs = []\n",
    "for config in itertools.product(model_type, confidence_method, data_aug):\n",
    "    match config:\n",
    "        case (\"baseline\", \"baseline\", \"baseline\"): \n",
    "            configs.append(config)\n",
    "        case (\"baseline\", _, _): \n",
    "            ignored_config.append(config)\n",
    "        case (\"dropout\", \"baseline\", _):\n",
    "            configs.append(config)\n",
    "        case (\"dropout\", _, \"baseline\"):\n",
    "            ignored_config.append(config)\n",
    "        case (\"dropout\", \"mc\" | \"gt\", _):\n",
    "            configs.append(config)       \n",
    "        case _:\n",
    "            print(config)\n",
    "\n",
    "print(\"Selected Config\")\n",
    "for config in configs:\n",
    "    print(config)\n",
    "\n",
    "print(len(configs))\n",
    "\n",
    "print(\"Ignored Config\")\n",
    "for config in ignored_config:\n",
    "    print(config)\n",
    "    \n",
    "print(len(ignored_config))\n"
   ]
  },
  {
   "cell_type": "code",
   "execution_count": 23,
   "metadata": {},
   "outputs": [
    {
     "data": {
      "text/plain": [
       "12"
      ]
     },
     "execution_count": 23,
     "metadata": {},
     "output_type": "execute_result"
    }
   ],
   "source": [
    "len(base_product)"
   ]
  },
  {
   "cell_type": "code",
   "execution_count": 24,
   "metadata": {},
   "outputs": [
    {
     "data": {
      "text/plain": [
       "24"
      ]
     },
     "execution_count": 24,
     "metadata": {},
     "output_type": "execute_result"
    }
   ],
   "source": [
    "len(config_specific_product)"
   ]
  },
  {
   "cell_type": "code",
   "execution_count": 25,
   "metadata": {},
   "outputs": [
    {
     "data": {
      "text/plain": [
       "288"
      ]
     },
     "execution_count": 25,
     "metadata": {},
     "output_type": "execute_result"
    }
   ],
   "source": [
    "len(total_product)"
   ]
  }
 ],
 "metadata": {
  "kernelspec": {
   "display_name": "cd-metadl-cyLvmR8c-py3.11",
   "language": "python",
   "name": "python3"
  },
  "language_info": {
   "codemirror_mode": {
    "name": "ipython",
    "version": 3
   },
   "file_extension": ".py",
   "mimetype": "text/x-python",
   "name": "python",
   "nbconvert_exporter": "python",
   "pygments_lexer": "ipython3",
   "version": "3.11.5"
  }
 },
 "nbformat": 4,
 "nbformat_minor": 2
}
